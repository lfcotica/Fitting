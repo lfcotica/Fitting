{
  "nbformat": 4,
  "nbformat_minor": 0,
  "metadata": {
    "colab": {
      "provenance": [],
      "authorship_tag": "ABX9TyMv0gvox1FXlirqs2TYUK2w",
      "include_colab_link": true
    },
    "kernelspec": {
      "name": "python3",
      "display_name": "Python 3"
    },
    "language_info": {
      "name": "python"
    }
  },
  "cells": [
    {
      "cell_type": "markdown",
      "metadata": {
        "id": "view-in-github",
        "colab_type": "text"
      },
      "source": [
        "<a href=\"https://colab.research.google.com/github/lfcotica/Fitting/blob/master/fitting.ipynb\" target=\"_parent\"><img src=\"https://colab.research.google.com/assets/colab-badge.svg\" alt=\"Open In Colab\"/></a>"
      ]
    },
    {
      "cell_type": "code",
      "execution_count": null,
      "metadata": {
        "colab": {
          "base_uri": "https://localhost:8080/",
          "height": 347
        },
        "id": "Q3wLYbvD_Ynp",
        "outputId": "24b5fc0e-ed21-4e2b-a417-2951688ee91e"
      },
      "outputs": [
        {
          "output_type": "display_data",
          "data": {
            "text/plain": [
              "<Figure size 432x288 with 1 Axes>"
            ],
            "image/png": "[encoded data removed]"
          },
          "metadata": {
            "needs_background": "light"
          }
        },
        {
          "output_type": "stream",
          "name": "stdout",
          "text": [
            "a = -0.24 +/- 0.05\n",
            "b = 0.86 +/- 0.23\n",
            "c = 0.04 +/- 0.20\n"
          ]
        }
      ],
      "source": [
        "import numpy as np\n",
        "from scipy.optimize import curve_fit\n",
        "import matplotlib.pyplot as plt\n",
        "\n",
        "# The data to fit\n",
        "x = np.array([0, 1, 2, 3, 4, 5])\n",
        "y = np.array([0, 0.8, 0.9, 0.1, -0.8, -1])\n",
        "y_errors = np.array([0.1, 0.2, 0.1, 0.3, 0.2, 0.3])\n",
        "\n",
        "# Define the function to fit\n",
        "def func(x, a, b, c):\n",
        "    return (a * (x**2)) + (b * x) + c\n",
        "\n",
        "# Fit the function to the data\n",
        "params, params_covariance = curve_fit(func, x, y, sigma=y_errors)\n",
        "\n",
        "# Get the fitted curve\n",
        "x2 = np.linspace(x[0], x[-1], 100)\n",
        "y2 = func(x2, params[0], params[1], params[2])\n",
        "\n",
        "# Visualize the results\n",
        "plt.errorbar(x, y, yerr=y_errors, fmt='o', label='Data with errors')\n",
        "plt.plot(x2, y2, label='Fitted curve')\n",
        "plt.xlabel('X')\n",
        "plt.ylabel('Y')\n",
        "plt.title('Nonlinear Fit')\n",
        "plt.legend()\n",
        "plt.show()\n",
        "\n",
        "# Print the fitted parameters and their uncertainties\n",
        "print(f'a = {params[0]:.2f} +/- {np.sqrt(params_covariance[0, 0]):.2f}')\n",
        "print(f'b = {params[1]:.2f} +/- {np.sqrt(params_covariance[1, 1]):.2f}')\n",
        "print(f'c = {params[2]:.2f} +/- {np.sqrt(params_covariance[2, 2]):.2f}')\n"
      ]
    }
  ]
}